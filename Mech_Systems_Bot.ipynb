{
  "nbformat": 4,
  "nbformat_minor": 0,
  "metadata": {
    "colab": {
      "name": "Mech_Systems_Bot",
      "provenance": [],
      "collapsed_sections": [],
      "include_colab_link": true
    },
    "kernelspec": {
      "name": "python3",
      "display_name": "Python 3"
    }
  },
  "cells": [
    {
      "cell_type": "markdown",
      "metadata": {
        "id": "view-in-github",
        "colab_type": "text"
      },
      "source": [
        "<a href=\"https://colab.research.google.com/github/nikitaoltyan/Calmy/blob/main/Mech_Systems_Bot.ipynb\" target=\"_parent\"><img src=\"https://colab.research.google.com/assets/colab-badge.svg\" alt=\"Open In Colab\"/></a>"
      ]
    },
    {
      "cell_type": "code",
      "metadata": {
        "colab": {
          "base_uri": "https://localhost:8080/"
        },
        "id": "oLGJ0T9Zw7kL",
        "outputId": "10c77ae1-3506-4306-f0ce-e89989a6d01f"
      },
      "source": [
        "# Project cloning\n",
        "!git clone https://github.com/nikitaoltyan/Mech-Trading-Systems.git\n",
        "%cd Mech-Trading-Systems"
      ],
      "execution_count": 1,
      "outputs": [
        {
          "output_type": "stream",
          "text": [
            "Cloning into 'Mech-Trading-Systems'...\n",
            "remote: Enumerating objects: 203, done.\u001b[K\n",
            "remote: Counting objects: 100% (203/203), done.\u001b[K\n",
            "remote: Compressing objects: 100% (194/194), done.\u001b[K\n",
            "remote: Total 203 (delta 99), reused 0 (delta 0), pack-reused 0\u001b[K\n",
            "Receiving objects: 100% (203/203), 584.61 KiB | 2.33 MiB/s, done.\n",
            "Resolving deltas: 100% (99/99), done.\n",
            "/content/Mech-Trading-Systems\n"
          ],
          "name": "stdout"
        }
      ]
    },
    {
      "cell_type": "code",
      "metadata": {
        "id": "2vlkIwXaXanV"
      },
      "source": [
        "import pandas as pd"
      ],
      "execution_count": 3,
      "outputs": []
    },
    {
      "cell_type": "code",
      "metadata": {
        "colab": {
          "base_uri": "https://localhost:8080/",
          "height": 221
        },
        "id": "WOKeZvGACEKT",
        "outputId": "a8bea16a-536f-4869-dade-0685348649d9"
      },
      "source": [
        "data = pd.read_excel(\"Boeing_Data.xlsx\")\n",
        "data.head()"
      ],
      "execution_count": 4,
      "outputs": [
        {
          "output_type": "execute_result",
          "data": {
            "text/html": [
              "<div>\n",
              "<style scoped>\n",
              "    .dataframe tbody tr th:only-of-type {\n",
              "        vertical-align: middle;\n",
              "    }\n",
              "\n",
              "    .dataframe tbody tr th {\n",
              "        vertical-align: top;\n",
              "    }\n",
              "\n",
              "    .dataframe thead th {\n",
              "        text-align: right;\n",
              "    }\n",
              "</style>\n",
              "<table border=\"1\" class=\"dataframe\">\n",
              "  <thead>\n",
              "    <tr style=\"text-align: right;\">\n",
              "      <th></th>\n",
              "      <th>&lt;DATE&gt;</th>\n",
              "      <th>&lt;OPEN&gt;</th>\n",
              "      <th>&lt;HIGH&gt;</th>\n",
              "      <th>&lt;LOW&gt;</th>\n",
              "      <th>&lt;CLOSE&gt;</th>\n",
              "      <th>&lt;VOL&gt;</th>\n",
              "    </tr>\n",
              "  </thead>\n",
              "  <tbody>\n",
              "    <tr>\n",
              "      <th>0</th>\n",
              "      <td>2015-01-02</td>\n",
              "      <td>130.94</td>\n",
              "      <td>131.84</td>\n",
              "      <td>129.10</td>\n",
              "      <td>129.96</td>\n",
              "      <td>314405</td>\n",
              "    </tr>\n",
              "    <tr>\n",
              "      <th>1</th>\n",
              "      <td>2015-01-05</td>\n",
              "      <td>129.43</td>\n",
              "      <td>129.83</td>\n",
              "      <td>128.61</td>\n",
              "      <td>129.09</td>\n",
              "      <td>375840</td>\n",
              "    </tr>\n",
              "    <tr>\n",
              "      <th>2</th>\n",
              "      <td>2015-01-06</td>\n",
              "      <td>128.85</td>\n",
              "      <td>129.61</td>\n",
              "      <td>126.20</td>\n",
              "      <td>127.69</td>\n",
              "      <td>274113</td>\n",
              "    </tr>\n",
              "    <tr>\n",
              "      <th>3</th>\n",
              "      <td>2015-01-07</td>\n",
              "      <td>128.83</td>\n",
              "      <td>129.96</td>\n",
              "      <td>128.74</td>\n",
              "      <td>129.47</td>\n",
              "      <td>207999</td>\n",
              "    </tr>\n",
              "    <tr>\n",
              "      <th>4</th>\n",
              "      <td>2015-01-08</td>\n",
              "      <td>130.60</td>\n",
              "      <td>131.98</td>\n",
              "      <td>130.48</td>\n",
              "      <td>131.83</td>\n",
              "      <td>206594</td>\n",
              "    </tr>\n",
              "  </tbody>\n",
              "</table>\n",
              "</div>"
            ],
            "text/plain": [
              "      <DATE>  <OPEN>  <HIGH>   <LOW>  <CLOSE>   <VOL>\n",
              "0 2015-01-02  130.94  131.84  129.10   129.96  314405\n",
              "1 2015-01-05  129.43  129.83  128.61   129.09  375840\n",
              "2 2015-01-06  128.85  129.61  126.20   127.69  274113\n",
              "3 2015-01-07  128.83  129.96  128.74   129.47  207999\n",
              "4 2015-01-08  130.60  131.98  130.48   131.83  206594"
            ]
          },
          "metadata": {
            "tags": []
          },
          "execution_count": 4
        }
      ]
    },
    {
      "cell_type": "code",
      "metadata": {
        "id": "NXnuJrgvXY7n"
      },
      "source": [
        "from TradingBot import TradingBot"
      ],
      "execution_count": 5,
      "outputs": []
    },
    {
      "cell_type": "code",
      "metadata": {
        "colab": {
          "base_uri": "https://localhost:8080/"
        },
        "id": "czJh7DRdGIn4",
        "outputId": "2cfc0da4-1131-49f8-db58-f40dbb203792"
      },
      "source": [
        "bot = TradingBot(data)\n",
        "alphaSell, betaSell, alphaBuy, betaBuy = bot.findBestHyperparams(2048, showProcess=False)\n",
        "money, profit = bot.useTradingSystem(100000, alphaSell, betaSell, alphaBuy, betaBuy)\n",
        "print(f\"Current money: {money}, Profit: {profit}\")"
      ],
      "execution_count": 6,
      "outputs": [
        {
          "output_type": "stream",
          "text": [
            "Current money: 272924.8318236638, Profit: 172924.8318236638\n"
          ],
          "name": "stdout"
        }
      ]
    }
  ]
}